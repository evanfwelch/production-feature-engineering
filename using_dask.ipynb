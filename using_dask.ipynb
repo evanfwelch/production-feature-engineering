{
 "cells": [
  {
   "cell_type": "code",
   "execution_count": 8,
   "metadata": {},
   "outputs": [],
   "source": [
    "import os\n",
    "import glob\n",
    "import dask.dataframe as dd\n",
    "from distributed import Client"
   ]
  },
  {
   "cell_type": "code",
   "execution_count": 9,
   "metadata": {},
   "outputs": [],
   "source": [
    "FEATURE_LOCATIONS = './DATA/FEATURES/20171201/'"
   ]
  },
  {
   "cell_type": "code",
   "execution_count": 15,
   "metadata": {},
   "outputs": [
    {
     "name": "stdout",
     "output_type": "stream",
     "text": [
      "total 0\r\n",
      "0 drwxr-xr-x  102 evanwelch  staff  3264 Mar 15 09:15 \u001b[34mgrocery_cnt\u001b[m\u001b[m\r\n",
      "0 drwxr-xr-x  102 evanwelch  staff  3264 Mar 15 09:16 \u001b[34mgrocery_tot\u001b[m\u001b[m\r\n",
      "0 drwxr-xr-x  102 evanwelch  staff  3264 Mar 15 09:16 \u001b[34mgrocery_avg\u001b[m\u001b[m\r\n",
      "0 drwxr-xr-x  102 evanwelch  staff  3264 Mar 15 09:17 \u001b[34mfood_cnt\u001b[m\u001b[m\r\n",
      "0 drwxr-xr-x  102 evanwelch  staff  3264 Mar 15 09:17 \u001b[34mfood_tot\u001b[m\u001b[m\r\n",
      "0 drwxr-xr-x  102 evanwelch  staff  3264 Mar 15 09:17 \u001b[34mfood_avg\u001b[m\u001b[m\r\n",
      "0 drwxr-xr-x  102 evanwelch  staff  3264 Mar 15 09:19 \u001b[34mbar_cnt\u001b[m\u001b[m\r\n",
      "0 drwxr-xr-x  102 evanwelch  staff  3264 Mar 15 09:19 \u001b[34mbar_tot\u001b[m\u001b[m\r\n",
      "0 drwxr-xr-x  102 evanwelch  staff  3264 Mar 15 09:19 \u001b[34mbar_avg\u001b[m\u001b[m\r\n"
     ]
    }
   ],
   "source": [
    "! ls -lsrt $FEATURE_LOCATIONS"
   ]
  },
  {
   "cell_type": "code",
   "execution_count": 13,
   "metadata": {},
   "outputs": [],
   "source": [
    "feature_folders = glob.glob(os.path.join(FEATURE_LOCATIONS, '*'))"
   ]
  },
  {
   "cell_type": "code",
   "execution_count": 16,
   "metadata": {},
   "outputs": [
    {
     "data": {
      "text/plain": [
       "['./DATA/FEATURES/20171201/grocery_avg',\n",
       " './DATA/FEATURES/20171201/food_avg',\n",
       " './DATA/FEATURES/20171201/bar_avg',\n",
       " './DATA/FEATURES/20171201/grocery_tot',\n",
       " './DATA/FEATURES/20171201/grocery_cnt',\n",
       " './DATA/FEATURES/20171201/food_tot',\n",
       " './DATA/FEATURES/20171201/food_cnt',\n",
       " './DATA/FEATURES/20171201/bar_tot',\n",
       " './DATA/FEATURES/20171201/bar_cnt']"
      ]
     },
     "execution_count": 16,
     "metadata": {},
     "output_type": "execute_result"
    }
   ],
   "source": [
    "dict_features = {}\n",
    "for fol in feature_folders:\n",
    "    feat_name = os.path.dirname(fol)\n",
    "    dict_features[feat_name] = "
   ]
  },
  {
   "cell_type": "code",
   "execution_count": null,
   "metadata": {},
   "outputs": [],
   "source": []
  }
 ],
 "metadata": {
  "kernelspec": {
   "display_name": "Python 3",
   "language": "python",
   "name": "python3"
  },
  "language_info": {
   "codemirror_mode": {
    "name": "ipython",
    "version": 3
   },
   "file_extension": ".py",
   "mimetype": "text/x-python",
   "name": "python",
   "nbconvert_exporter": "python",
   "pygments_lexer": "ipython3",
   "version": "3.6.1"
  }
 },
 "nbformat": 4,
 "nbformat_minor": 2
}
