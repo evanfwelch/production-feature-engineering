{
 "cells": [
  {
   "cell_type": "markdown",
   "metadata": {},
   "source": [
    "# Using the output of our luigi pipeline"
   ]
  },
  {
   "cell_type": "code",
   "execution_count": 24,
   "metadata": {},
   "outputs": [],
   "source": [
    "import os\n",
    "import dask.dataframe as dd\n",
    "import datetime\n",
    "import pandas as pd\n",
    "import numpy as np"
   ]
  },
  {
   "cell_type": "markdown",
   "metadata": {},
   "source": [
    "# The joined data transaction data"
   ]
  },
  {
   "cell_type": "code",
   "execution_count": 2,
   "metadata": {},
   "outputs": [],
   "source": [
    "ENRICHED_TRXN_DATA = './DATA/PROCESSED/enriched_trxns/enriched_trxns-*.csv'"
   ]
  },
  {
   "cell_type": "code",
   "execution_count": 3,
   "metadata": {},
   "outputs": [
    {
     "name": "stdout",
     "output_type": "stream",
     "text": [
      "40 -rw-r--r--  1 evanwelch  staff  19986 Mar 14 23:37 ./DATA/PROCESSED/enriched_trxns/enriched_trxns-32.csv\r\n",
      "48 -rw-r--r--  1 evanwelch  staff  21867 Mar 14 23:37 ./DATA/PROCESSED/enriched_trxns/enriched_trxns-07.csv\r\n",
      "40 -rw-r--r--  1 evanwelch  staff  19240 Mar 14 23:37 ./DATA/PROCESSED/enriched_trxns/enriched_trxns-00.csv\r\n",
      "48 -rw-r--r--  1 evanwelch  staff  20600 Mar 14 23:37 ./DATA/PROCESSED/enriched_trxns/enriched_trxns-15.csv\r\n",
      "48 -rw-r--r--  1 evanwelch  staff  22145 Mar 14 23:37 ./DATA/PROCESSED/enriched_trxns/enriched_trxns-03.csv\r\n"
     ]
    }
   ],
   "source": [
    "!ls -lsrt $ENRICHED_TRXN_DATA | head -5"
   ]
  },
  {
   "cell_type": "code",
   "execution_count": 4,
   "metadata": {},
   "outputs": [
    {
     "name": "stdout",
     "output_type": "stream",
     "text": [
      "_id|amount|cust_first_nm|cust_last_nm|cust_state|cust_zip|customer_id|medium|merchant_id|mrch_catgs|mrch_lat|mrch_lon|mrch_name|mrch_state|mrch_zip|payer_id|purchase_date|rewards|status|type\r\n"
     ]
    }
   ],
   "source": [
    "! cat ./DATA/PROCESSED/enriched_trxns/enriched_trxns-32.csv | head -1"
   ]
  },
  {
   "cell_type": "code",
   "execution_count": 5,
   "metadata": {},
   "outputs": [
    {
     "name": "stdout",
     "output_type": "stream",
     "text": [
      "5aa9edfff0cec56abfa3f178|314.73842349112346|Michelle|Sawyer|IA|08636|5aa9eacef0cec56abfa3deac|balance|593848ceceb8abe242510b33|['travel']|0.0|0.0|priceline|CA|90503|5aa9ebabf0cec56abfa3e3c5|2017-12-01|0|cancelled|merchant\r\n"
     ]
    }
   ],
   "source": [
    "! cat ./DATA/PROCESSED/enriched_trxns/enriched_trxns-32.csv | head -2 | tail -1"
   ]
  },
  {
   "cell_type": "markdown",
   "metadata": {},
   "source": [
    "# Read it in for exploration..."
   ]
  },
  {
   "cell_type": "code",
   "execution_count": 7,
   "metadata": {},
   "outputs": [],
   "source": [
    "# using dask dataframes, very similar to pandas\n",
    "ddf = dd.read_csv(ENRICHED_TRXN_DATA, sep='|', dtype={'mrch_zip':str, 'zip': str})"
   ]
  },
  {
   "cell_type": "code",
   "execution_count": 8,
   "metadata": {},
   "outputs": [
    {
     "data": {
      "text/html": [
       "<div>\n",
       "<style scoped>\n",
       "    .dataframe tbody tr th:only-of-type {\n",
       "        vertical-align: middle;\n",
       "    }\n",
       "\n",
       "    .dataframe tbody tr th {\n",
       "        vertical-align: top;\n",
       "    }\n",
       "\n",
       "    .dataframe thead th {\n",
       "        text-align: right;\n",
       "    }\n",
       "</style>\n",
       "<table border=\"1\" class=\"dataframe\">\n",
       "  <thead>\n",
       "    <tr style=\"text-align: right;\">\n",
       "      <th></th>\n",
       "      <th>_id</th>\n",
       "      <th>amount</th>\n",
       "      <th>cust_first_nm</th>\n",
       "      <th>cust_last_nm</th>\n",
       "      <th>cust_state</th>\n",
       "      <th>cust_zip</th>\n",
       "      <th>customer_id</th>\n",
       "      <th>medium</th>\n",
       "      <th>merchant_id</th>\n",
       "      <th>mrch_catgs</th>\n",
       "      <th>mrch_lat</th>\n",
       "      <th>mrch_lon</th>\n",
       "      <th>mrch_name</th>\n",
       "      <th>mrch_state</th>\n",
       "      <th>mrch_zip</th>\n",
       "      <th>payer_id</th>\n",
       "      <th>purchase_date</th>\n",
       "      <th>rewards</th>\n",
       "      <th>status</th>\n",
       "      <th>type</th>\n",
       "    </tr>\n",
       "  </thead>\n",
       "  <tbody>\n",
       "    <tr>\n",
       "      <th>0</th>\n",
       "      <td>5aa9ec91f0cec56abfa3e91a</td>\n",
       "      <td>25.207649</td>\n",
       "      <td>Kimberly</td>\n",
       "      <td>Patterson</td>\n",
       "      <td>PA</td>\n",
       "      <td>16041</td>\n",
       "      <td>5aa9ea97f0cec56abfa3dd6c</td>\n",
       "      <td>balance</td>\n",
       "      <td>58a8de4c1756fc834d9053c6</td>\n",
       "      <td>['Shopping']</td>\n",
       "      <td>39.465186</td>\n",
       "      <td>-76.641839</td>\n",
       "      <td>Home Depot</td>\n",
       "      <td>MD</td>\n",
       "      <td>21030</td>\n",
       "      <td>5aa9eb44f0cec56abfa3e154</td>\n",
       "      <td>2017-12-01</td>\n",
       "      <td>0</td>\n",
       "      <td>cancelled</td>\n",
       "      <td>merchant</td>\n",
       "    </tr>\n",
       "    <tr>\n",
       "      <th>1</th>\n",
       "      <td>5aa9ec91f0cec56abfa3e91b</td>\n",
       "      <td>261.483298</td>\n",
       "      <td>Kimberly</td>\n",
       "      <td>Patterson</td>\n",
       "      <td>PA</td>\n",
       "      <td>16041</td>\n",
       "      <td>5aa9ea97f0cec56abfa3dd6c</td>\n",
       "      <td>balance</td>\n",
       "      <td>57cf75cfa73e494d8675f80b</td>\n",
       "      <td>['gym', 'lodging', 'health', 'restaurant', 'fo...</td>\n",
       "      <td>38.913722</td>\n",
       "      <td>-77.221603</td>\n",
       "      <td>Tysons Corner Marriott</td>\n",
       "      <td>VA</td>\n",
       "      <td>22182</td>\n",
       "      <td>5aa9eb44f0cec56abfa3e155</td>\n",
       "      <td>2017-12-02</td>\n",
       "      <td>0</td>\n",
       "      <td>cancelled</td>\n",
       "      <td>merchant</td>\n",
       "    </tr>\n",
       "    <tr>\n",
       "      <th>2</th>\n",
       "      <td>5aa9ec91f0cec56abfa3e91c</td>\n",
       "      <td>549.429422</td>\n",
       "      <td>Kimberly</td>\n",
       "      <td>Patterson</td>\n",
       "      <td>PA</td>\n",
       "      <td>16041</td>\n",
       "      <td>5aa9ea97f0cec56abfa3dd6c</td>\n",
       "      <td>balance</td>\n",
       "      <td>59384a53ceb8abe24251227f</td>\n",
       "      <td>['travel']</td>\n",
       "      <td>0.000000</td>\n",
       "      <td>0.000000</td>\n",
       "      <td>priceline</td>\n",
       "      <td>CA</td>\n",
       "      <td>90503</td>\n",
       "      <td>5aa9eb44f0cec56abfa3e155</td>\n",
       "      <td>2017-12-04</td>\n",
       "      <td>0</td>\n",
       "      <td>cancelled</td>\n",
       "      <td>merchant</td>\n",
       "    </tr>\n",
       "    <tr>\n",
       "      <th>3</th>\n",
       "      <td>5aa9ec91f0cec56abfa3e91d</td>\n",
       "      <td>25.811945</td>\n",
       "      <td>Kimberly</td>\n",
       "      <td>Patterson</td>\n",
       "      <td>PA</td>\n",
       "      <td>16041</td>\n",
       "      <td>5aa9ea97f0cec56abfa3dd6c</td>\n",
       "      <td>balance</td>\n",
       "      <td>57cf75cfa73e494d8675f766</td>\n",
       "      <td>['shopping_mall', 'health', 'store', 'point_of...</td>\n",
       "      <td>30.623971</td>\n",
       "      <td>-96.304156</td>\n",
       "      <td>Proactiv Kiosk</td>\n",
       "      <td>TX</td>\n",
       "      <td>77840</td>\n",
       "      <td>5aa9eb44f0cec56abfa3e155</td>\n",
       "      <td>2017-12-05</td>\n",
       "      <td>0</td>\n",
       "      <td>cancelled</td>\n",
       "      <td>merchant</td>\n",
       "    </tr>\n",
       "    <tr>\n",
       "      <th>4</th>\n",
       "      <td>5aa9ec91f0cec56abfa3e91e</td>\n",
       "      <td>28.053279</td>\n",
       "      <td>Kimberly</td>\n",
       "      <td>Patterson</td>\n",
       "      <td>PA</td>\n",
       "      <td>16041</td>\n",
       "      <td>5aa9ea97f0cec56abfa3dd6c</td>\n",
       "      <td>balance</td>\n",
       "      <td>57cf75cea73e494d8675f0a2</td>\n",
       "      <td>['shopping_mall', 'department_store', 'jewelry...</td>\n",
       "      <td>42.461314</td>\n",
       "      <td>-71.028013</td>\n",
       "      <td>Square One Mall</td>\n",
       "      <td>MA</td>\n",
       "      <td>01906</td>\n",
       "      <td>5aa9eb44f0cec56abfa3e155</td>\n",
       "      <td>2017-12-07</td>\n",
       "      <td>0</td>\n",
       "      <td>cancelled</td>\n",
       "      <td>merchant</td>\n",
       "    </tr>\n",
       "  </tbody>\n",
       "</table>\n",
       "</div>"
      ],
      "text/plain": [
       "                        _id      amount cust_first_nm cust_last_nm cust_state  \\\n",
       "0  5aa9ec91f0cec56abfa3e91a   25.207649      Kimberly    Patterson         PA   \n",
       "1  5aa9ec91f0cec56abfa3e91b  261.483298      Kimberly    Patterson         PA   \n",
       "2  5aa9ec91f0cec56abfa3e91c  549.429422      Kimberly    Patterson         PA   \n",
       "3  5aa9ec91f0cec56abfa3e91d   25.811945      Kimberly    Patterson         PA   \n",
       "4  5aa9ec91f0cec56abfa3e91e   28.053279      Kimberly    Patterson         PA   \n",
       "\n",
       "   cust_zip               customer_id   medium               merchant_id  \\\n",
       "0     16041  5aa9ea97f0cec56abfa3dd6c  balance  58a8de4c1756fc834d9053c6   \n",
       "1     16041  5aa9ea97f0cec56abfa3dd6c  balance  57cf75cfa73e494d8675f80b   \n",
       "2     16041  5aa9ea97f0cec56abfa3dd6c  balance  59384a53ceb8abe24251227f   \n",
       "3     16041  5aa9ea97f0cec56abfa3dd6c  balance  57cf75cfa73e494d8675f766   \n",
       "4     16041  5aa9ea97f0cec56abfa3dd6c  balance  57cf75cea73e494d8675f0a2   \n",
       "\n",
       "                                          mrch_catgs   mrch_lat   mrch_lon  \\\n",
       "0                                       ['Shopping']  39.465186 -76.641839   \n",
       "1  ['gym', 'lodging', 'health', 'restaurant', 'fo...  38.913722 -77.221603   \n",
       "2                                         ['travel']   0.000000   0.000000   \n",
       "3  ['shopping_mall', 'health', 'store', 'point_of...  30.623971 -96.304156   \n",
       "4  ['shopping_mall', 'department_store', 'jewelry...  42.461314 -71.028013   \n",
       "\n",
       "                mrch_name mrch_state mrch_zip                  payer_id  \\\n",
       "0              Home Depot         MD    21030  5aa9eb44f0cec56abfa3e154   \n",
       "1  Tysons Corner Marriott         VA    22182  5aa9eb44f0cec56abfa3e155   \n",
       "2               priceline         CA    90503  5aa9eb44f0cec56abfa3e155   \n",
       "3          Proactiv Kiosk         TX    77840  5aa9eb44f0cec56abfa3e155   \n",
       "4         Square One Mall         MA    01906  5aa9eb44f0cec56abfa3e155   \n",
       "\n",
       "  purchase_date  rewards     status      type  \n",
       "0    2017-12-01        0  cancelled  merchant  \n",
       "1    2017-12-02        0  cancelled  merchant  \n",
       "2    2017-12-04        0  cancelled  merchant  \n",
       "3    2017-12-05        0  cancelled  merchant  \n",
       "4    2017-12-07        0  cancelled  merchant  "
      ]
     },
     "execution_count": 8,
     "metadata": {},
     "output_type": "execute_result"
    }
   ],
   "source": [
    "ddf.head()"
   ]
  },
  {
   "cell_type": "markdown",
   "metadata": {},
   "source": [
    "# Ok, so say we want to make some features.... \n",
    "* total, average, and count ...\n",
    "* of credit card transactions...\n",
    "* per cusomter\n",
    "* for certain categories"
   ]
  },
  {
   "cell_type": "markdown",
   "metadata": {},
   "source": [
    "# one way do it..."
   ]
  },
  {
   "cell_type": "code",
   "execution_count": 11,
   "metadata": {},
   "outputs": [
    {
     "data": {
      "text/plain": [
       "customer_id\n",
       "5aa9ea97f0cec56abfa3dd6c     25.207649\n",
       "5aa9ea97f0cec56abfa3dd6d     26.857885\n",
       "5aa9ea97f0cec56abfa3dd6e     24.509473\n",
       "5aa9ea97f0cec56abfa3dd71     29.437342\n",
       "5aa9ea98f0cec56abfa3dd72    104.566699\n",
       "Name: amount, dtype: float64"
      ]
     },
     "execution_count": 11,
     "metadata": {},
     "output_type": "execute_result"
    }
   ],
   "source": [
    "ddf[ddf.purchase_date == '2017-12-01'].dropna().groupby('customer_id').amount.sum().compute().head()"
   ]
  },
  {
   "cell_type": "markdown",
   "metadata": {},
   "source": [
    "# A longer, but more robust way ...."
   ]
  },
  {
   "cell_type": "markdown",
   "metadata": {},
   "source": [
    "## filter certain rows (in or out)"
   ]
  },
  {
   "cell_type": "code",
   "execution_count": 42,
   "metadata": {},
   "outputs": [],
   "source": [
    "def no_rewards_purchases(trxn):\n",
    "    return trxn['medium'] != 'reward'\n",
    "\n",
    "def only_this_catg(trxn, catg):\n",
    "    return any([catg.lower() in cat.lower() for cat in trxn['mrch_catgs'].split()])\n",
    "\n",
    "def only_this_date(trxn, year=None, month=None, day=None):\n",
    "    result = True\n",
    "    try:\n",
    "        trxn_dt = pd.to_datetime(trxn['purchase_date'])\n",
    "    except:\n",
    "        trxn_dt = pd.NaT\n",
    "    if year:\n",
    "        result &= trxn_dt.year == year\n",
    "    if month:\n",
    "        result &= trxn_dt.month == month\n",
    "    if day:\n",
    "        result &= trxn_dt.day == day\n",
    "    \n",
    "    return result\n",
    "\n"
   ]
  },
  {
   "cell_type": "markdown",
   "metadata": {},
   "source": [
    "## some new columns"
   ]
  },
  {
   "cell_type": "code",
   "execution_count": 26,
   "metadata": {},
   "outputs": [],
   "source": [
    "def first_digit_zip_code(zip_str):\n",
    "    if len(zip_str) >= 5:\n",
    "        return int(zip_str[0])\n",
    "    else:\n",
    "        return np.nan"
   ]
  },
  {
   "cell_type": "code",
   "execution_count": 27,
   "metadata": {},
   "outputs": [],
   "source": [
    "def is_amazon(trxn):\n",
    "    return 'amazon' in trxn['mrch_name'].lower()"
   ]
  },
  {
   "cell_type": "markdown",
   "metadata": {},
   "source": [
    "## some aggregations"
   ]
  },
  {
   "cell_type": "code",
   "execution_count": 47,
   "metadata": {},
   "outputs": [],
   "source": [
    "def _trxn_cnt(df):\n",
    "    return df.shape[0]\n",
    "\n",
    "def _trxn_total(df):\n",
    "    return df['amount'].sum()\n",
    "\n",
    "def _trxn_mean(df):\n",
    "    return df['amount'].mean()\n",
    "\n",
    "agg_operations = {\n",
    "    'cnt': _trxn_cnt,\n",
    "    'tot': _trxn_total,\n",
    "    'avg': _trxn_mean}\n"
   ]
  },
  {
   "cell_type": "code",
   "execution_count": 29,
   "metadata": {},
   "outputs": [],
   "source": [
    "# where to save features\n",
    "\n",
    "FEATURE_PATH = 'DATA/FEATURES/'\n",
    "\n",
    "if not os.path.exists(FEATURE_PATH):\n",
    "    os.makedirs(FEATURE_PATH)"
   ]
  },
  {
   "cell_type": "code",
   "execution_count": 60,
   "metadata": {},
   "outputs": [],
   "source": [
    "def write_feature(srs, feat_path):\n",
    "    feature_folder = os.path.join(FEATURE_PATH, feat_path)\n",
    "    if not os.path.exists(feature_folder):\n",
    "        os.makedirs(feature_folder)\n",
    "    \n",
    "    # write the feature to disk\n",
    "    files = srs.to_csv(os.path.join(FEATURE_PATH, feat_path, 'part-*.csv'), sep='|', index_label='customer_id')\n",
    "    return files"
   ]
  },
  {
   "cell_type": "code",
   "execution_count": 61,
   "metadata": {},
   "outputs": [
    {
     "name": "stderr",
     "output_type": "stream",
     "text": [
      "/Users/evanwelch/PROJECTS/production-feature-engineering/env/lib/python3.6/site-packages/dask/dataframe/core.py:2779: UserWarning: `meta` is not specified, inferred from partial data. Please provide `meta` if the result is unexpected.\n",
      "  Before: .apply(func)\n",
      "  After:  .apply(func, meta={'x': 'f8', 'y': 'f8'}) for dataframe result\n",
      "  or:     .apply(func, meta=('x', 'f8'))            for series result\n",
      "  warnings.warn(msg)\n",
      "/Users/evanwelch/PROJECTS/production-feature-engineering/env/lib/python3.6/site-packages/ipykernel_launcher.py:25: UserWarning: `meta` is not specified, inferred from partial data. Please provide `meta` if the result is unexpected.\n",
      "  Before: .apply(func)\n",
      "  After:  .apply(func, meta={'x': 'f8', 'y': 'f8'}) for dataframe result\n",
      "  or:     .apply(func, meta=('x', 'f8'))            for series result\n"
     ]
    },
    {
     "ename": "KeyboardInterrupt",
     "evalue": "",
     "output_type": "error",
     "traceback": [
      "\u001b[0;31m---------------------------------------------------------------------------\u001b[0m",
      "\u001b[0;31mKeyboardInterrupt\u001b[0m                         Traceback (most recent call last)",
      "\u001b[0;32m<ipython-input-61-05b84b00c4c2>\u001b[0m in \u001b[0;36m<module>\u001b[0;34m()\u001b[0m\n\u001b[1;32m     23\u001b[0m \u001b[0;34m\u001b[0m\u001b[0m\n\u001b[1;32m     24\u001b[0m             \u001b[0;31m# write the feature to disk\u001b[0m\u001b[0;34m\u001b[0m\u001b[0;34m\u001b[0m\u001b[0m\n\u001b[0;32m---> 25\u001b[0;31m             \u001b[0mwrite_feature\u001b[0m\u001b[0;34m(\u001b[0m\u001b[0mg\u001b[0m\u001b[0;34m.\u001b[0m\u001b[0mapply\u001b[0m\u001b[0;34m(\u001b[0m\u001b[0magg_func\u001b[0m\u001b[0;34m)\u001b[0m\u001b[0;34m,\u001b[0m \u001b[0mfeat_path\u001b[0m\u001b[0;34m)\u001b[0m\u001b[0;34m\u001b[0m\u001b[0m\n\u001b[0m\u001b[1;32m     26\u001b[0m \u001b[0;34m\u001b[0m\u001b[0m\n",
      "\u001b[0;32m<ipython-input-60-b2d91811b2bb>\u001b[0m in \u001b[0;36mwrite_feature\u001b[0;34m(srs, feat_path)\u001b[0m\n\u001b[1;32m      5\u001b[0m \u001b[0;34m\u001b[0m\u001b[0m\n\u001b[1;32m      6\u001b[0m     \u001b[0;31m# write the feature to disk\u001b[0m\u001b[0;34m\u001b[0m\u001b[0;34m\u001b[0m\u001b[0m\n\u001b[0;32m----> 7\u001b[0;31m     \u001b[0mfiles\u001b[0m \u001b[0;34m=\u001b[0m \u001b[0msrs\u001b[0m\u001b[0;34m.\u001b[0m\u001b[0mto_csv\u001b[0m\u001b[0;34m(\u001b[0m\u001b[0mos\u001b[0m\u001b[0;34m.\u001b[0m\u001b[0mpath\u001b[0m\u001b[0;34m.\u001b[0m\u001b[0mjoin\u001b[0m\u001b[0;34m(\u001b[0m\u001b[0mFEATURE_PATH\u001b[0m\u001b[0;34m,\u001b[0m \u001b[0mfeat_path\u001b[0m\u001b[0;34m,\u001b[0m \u001b[0;34m'part-*.csv'\u001b[0m\u001b[0;34m)\u001b[0m\u001b[0;34m,\u001b[0m \u001b[0msep\u001b[0m\u001b[0;34m=\u001b[0m\u001b[0;34m'|'\u001b[0m\u001b[0;34m,\u001b[0m \u001b[0mindex_label\u001b[0m\u001b[0;34m=\u001b[0m\u001b[0;34m'customer_id'\u001b[0m\u001b[0;34m)\u001b[0m\u001b[0;34m\u001b[0m\u001b[0m\n\u001b[0m\u001b[1;32m      8\u001b[0m     \u001b[0;32mreturn\u001b[0m \u001b[0mfiles\u001b[0m\u001b[0;34m\u001b[0m\u001b[0m\n",
      "\u001b[0;32m~/PROJECTS/production-feature-engineering/env/lib/python3.6/site-packages/dask/dataframe/core.py\u001b[0m in \u001b[0;36mto_csv\u001b[0;34m(self, filename, **kwargs)\u001b[0m\n\u001b[1;32m   1042\u001b[0m         \u001b[0;34m\"\"\" See dd.to_csv docstring for more information \"\"\"\u001b[0m\u001b[0;34m\u001b[0m\u001b[0m\n\u001b[1;32m   1043\u001b[0m         \u001b[0;32mfrom\u001b[0m \u001b[0;34m.\u001b[0m\u001b[0mio\u001b[0m \u001b[0;32mimport\u001b[0m \u001b[0mto_csv\u001b[0m\u001b[0;34m\u001b[0m\u001b[0m\n\u001b[0;32m-> 1044\u001b[0;31m         \u001b[0;32mreturn\u001b[0m \u001b[0mto_csv\u001b[0m\u001b[0;34m(\u001b[0m\u001b[0mself\u001b[0m\u001b[0;34m,\u001b[0m \u001b[0mfilename\u001b[0m\u001b[0;34m,\u001b[0m \u001b[0;34m**\u001b[0m\u001b[0mkwargs\u001b[0m\u001b[0;34m)\u001b[0m\u001b[0;34m\u001b[0m\u001b[0m\n\u001b[0m\u001b[1;32m   1045\u001b[0m \u001b[0;34m\u001b[0m\u001b[0m\n\u001b[1;32m   1046\u001b[0m     \u001b[0;32mdef\u001b[0m \u001b[0mto_delayed\u001b[0m\u001b[0;34m(\u001b[0m\u001b[0mself\u001b[0m\u001b[0;34m,\u001b[0m \u001b[0moptimize_graph\u001b[0m\u001b[0;34m=\u001b[0m\u001b[0;32mTrue\u001b[0m\u001b[0;34m)\u001b[0m\u001b[0;34m:\u001b[0m\u001b[0;34m\u001b[0m\u001b[0m\n",
      "\u001b[0;32m~/PROJECTS/production-feature-engineering/env/lib/python3.6/site-packages/dask/dataframe/io/csv.py\u001b[0m in \u001b[0;36mto_csv\u001b[0;34m(df, filename, name_function, compression, compute, get, storage_options, **kwargs)\u001b[0m\n\u001b[1;32m    575\u001b[0m \u001b[0;34m\u001b[0m\u001b[0m\n\u001b[1;32m    576\u001b[0m     \u001b[0;32mif\u001b[0m \u001b[0mcompute\u001b[0m\u001b[0;34m:\u001b[0m\u001b[0;34m\u001b[0m\u001b[0m\n\u001b[0;32m--> 577\u001b[0;31m         \u001b[0mdelayed\u001b[0m\u001b[0;34m(\u001b[0m\u001b[0mvalues\u001b[0m\u001b[0;34m)\u001b[0m\u001b[0;34m.\u001b[0m\u001b[0mcompute\u001b[0m\u001b[0;34m(\u001b[0m\u001b[0mget\u001b[0m\u001b[0;34m=\u001b[0m\u001b[0mget\u001b[0m\u001b[0;34m)\u001b[0m\u001b[0;34m\u001b[0m\u001b[0m\n\u001b[0m\u001b[1;32m    578\u001b[0m         \u001b[0;32mreturn\u001b[0m \u001b[0;34m[\u001b[0m\u001b[0mf\u001b[0m\u001b[0;34m.\u001b[0m\u001b[0mpath\u001b[0m \u001b[0;32mfor\u001b[0m \u001b[0mf\u001b[0m \u001b[0;32min\u001b[0m \u001b[0mfiles\u001b[0m\u001b[0;34m]\u001b[0m\u001b[0;34m\u001b[0m\u001b[0m\n\u001b[1;32m    579\u001b[0m     \u001b[0;32melse\u001b[0m\u001b[0;34m:\u001b[0m\u001b[0;34m\u001b[0m\u001b[0m\n",
      "\u001b[0;32m~/PROJECTS/production-feature-engineering/env/lib/python3.6/site-packages/dask/base.py\u001b[0m in \u001b[0;36mcompute\u001b[0;34m(self, **kwargs)\u001b[0m\n\u001b[1;32m    141\u001b[0m         \u001b[0mdask\u001b[0m\u001b[0;34m.\u001b[0m\u001b[0mbase\u001b[0m\u001b[0;34m.\u001b[0m\u001b[0mcompute\u001b[0m\u001b[0;34m\u001b[0m\u001b[0m\n\u001b[1;32m    142\u001b[0m         \"\"\"\n\u001b[0;32m--> 143\u001b[0;31m         \u001b[0;34m(\u001b[0m\u001b[0mresult\u001b[0m\u001b[0;34m,\u001b[0m\u001b[0;34m)\u001b[0m \u001b[0;34m=\u001b[0m \u001b[0mcompute\u001b[0m\u001b[0;34m(\u001b[0m\u001b[0mself\u001b[0m\u001b[0;34m,\u001b[0m \u001b[0mtraverse\u001b[0m\u001b[0;34m=\u001b[0m\u001b[0;32mFalse\u001b[0m\u001b[0;34m,\u001b[0m \u001b[0;34m**\u001b[0m\u001b[0mkwargs\u001b[0m\u001b[0;34m)\u001b[0m\u001b[0;34m\u001b[0m\u001b[0m\n\u001b[0m\u001b[1;32m    144\u001b[0m         \u001b[0;32mreturn\u001b[0m \u001b[0mresult\u001b[0m\u001b[0;34m\u001b[0m\u001b[0m\n\u001b[1;32m    145\u001b[0m \u001b[0;34m\u001b[0m\u001b[0m\n",
      "\u001b[0;32m~/PROJECTS/production-feature-engineering/env/lib/python3.6/site-packages/dask/base.py\u001b[0m in \u001b[0;36mcompute\u001b[0;34m(*args, **kwargs)\u001b[0m\n\u001b[1;32m    390\u001b[0m     postcomputes = [a.__dask_postcompute__() if is_dask_collection(a)\n\u001b[1;32m    391\u001b[0m                     else (None, a) for a in args]\n\u001b[0;32m--> 392\u001b[0;31m     \u001b[0mresults\u001b[0m \u001b[0;34m=\u001b[0m \u001b[0mget\u001b[0m\u001b[0;34m(\u001b[0m\u001b[0mdsk\u001b[0m\u001b[0;34m,\u001b[0m \u001b[0mkeys\u001b[0m\u001b[0;34m,\u001b[0m \u001b[0;34m**\u001b[0m\u001b[0mkwargs\u001b[0m\u001b[0;34m)\u001b[0m\u001b[0;34m\u001b[0m\u001b[0m\n\u001b[0m\u001b[1;32m    393\u001b[0m     \u001b[0mresults_iter\u001b[0m \u001b[0;34m=\u001b[0m \u001b[0miter\u001b[0m\u001b[0;34m(\u001b[0m\u001b[0mresults\u001b[0m\u001b[0;34m)\u001b[0m\u001b[0;34m\u001b[0m\u001b[0m\n\u001b[1;32m    394\u001b[0m     return tuple(a if f is None else f(next(results_iter), *a)\n",
      "\u001b[0;32m~/PROJECTS/production-feature-engineering/env/lib/python3.6/site-packages/dask/threaded.py\u001b[0m in \u001b[0;36mget\u001b[0;34m(dsk, result, cache, num_workers, **kwargs)\u001b[0m\n\u001b[1;32m     73\u001b[0m     results = get_async(pool.apply_async, len(pool._pool), dsk, result,\n\u001b[1;32m     74\u001b[0m                         \u001b[0mcache\u001b[0m\u001b[0;34m=\u001b[0m\u001b[0mcache\u001b[0m\u001b[0;34m,\u001b[0m \u001b[0mget_id\u001b[0m\u001b[0;34m=\u001b[0m\u001b[0m_thread_get_id\u001b[0m\u001b[0;34m,\u001b[0m\u001b[0;34m\u001b[0m\u001b[0m\n\u001b[0;32m---> 75\u001b[0;31m                         pack_exception=pack_exception, **kwargs)\n\u001b[0m\u001b[1;32m     76\u001b[0m \u001b[0;34m\u001b[0m\u001b[0m\n\u001b[1;32m     77\u001b[0m     \u001b[0;31m# Cleanup pools associated to dead threads\u001b[0m\u001b[0;34m\u001b[0m\u001b[0;34m\u001b[0m\u001b[0m\n",
      "\u001b[0;32m~/PROJECTS/production-feature-engineering/env/lib/python3.6/site-packages/dask/local.py\u001b[0m in \u001b[0;36mget_async\u001b[0;34m(apply_async, num_workers, dsk, result, cache, get_id, rerun_exceptions_locally, pack_exception, raise_exception, callbacks, dumps, loads, **kwargs)\u001b[0m\n\u001b[1;32m    510\u001b[0m             \u001b[0;31m# Main loop, wait on tasks to finish, insert new ones\u001b[0m\u001b[0;34m\u001b[0m\u001b[0;34m\u001b[0m\u001b[0m\n\u001b[1;32m    511\u001b[0m             \u001b[0;32mwhile\u001b[0m \u001b[0mstate\u001b[0m\u001b[0;34m[\u001b[0m\u001b[0;34m'waiting'\u001b[0m\u001b[0;34m]\u001b[0m \u001b[0;32mor\u001b[0m \u001b[0mstate\u001b[0m\u001b[0;34m[\u001b[0m\u001b[0;34m'ready'\u001b[0m\u001b[0;34m]\u001b[0m \u001b[0;32mor\u001b[0m \u001b[0mstate\u001b[0m\u001b[0;34m[\u001b[0m\u001b[0;34m'running'\u001b[0m\u001b[0;34m]\u001b[0m\u001b[0;34m:\u001b[0m\u001b[0;34m\u001b[0m\u001b[0m\n\u001b[0;32m--> 512\u001b[0;31m                 \u001b[0mkey\u001b[0m\u001b[0;34m,\u001b[0m \u001b[0mres_info\u001b[0m\u001b[0;34m,\u001b[0m \u001b[0mfailed\u001b[0m \u001b[0;34m=\u001b[0m \u001b[0mqueue_get\u001b[0m\u001b[0;34m(\u001b[0m\u001b[0mqueue\u001b[0m\u001b[0;34m)\u001b[0m\u001b[0;34m\u001b[0m\u001b[0m\n\u001b[0m\u001b[1;32m    513\u001b[0m                 \u001b[0;32mif\u001b[0m \u001b[0mfailed\u001b[0m\u001b[0;34m:\u001b[0m\u001b[0;34m\u001b[0m\u001b[0m\n\u001b[1;32m    514\u001b[0m                     \u001b[0mexc\u001b[0m\u001b[0;34m,\u001b[0m \u001b[0mtb\u001b[0m \u001b[0;34m=\u001b[0m \u001b[0mloads\u001b[0m\u001b[0;34m(\u001b[0m\u001b[0mres_info\u001b[0m\u001b[0;34m)\u001b[0m\u001b[0;34m\u001b[0m\u001b[0m\n",
      "\u001b[0;32m~/PROJECTS/production-feature-engineering/env/lib/python3.6/site-packages/dask/local.py\u001b[0m in \u001b[0;36mqueue_get\u001b[0;34m(q)\u001b[0m\n\u001b[1;32m    149\u001b[0m \u001b[0;32melse\u001b[0m\u001b[0;34m:\u001b[0m\u001b[0;34m\u001b[0m\u001b[0m\n\u001b[1;32m    150\u001b[0m     \u001b[0;32mdef\u001b[0m \u001b[0mqueue_get\u001b[0m\u001b[0;34m(\u001b[0m\u001b[0mq\u001b[0m\u001b[0;34m)\u001b[0m\u001b[0;34m:\u001b[0m\u001b[0;34m\u001b[0m\u001b[0m\n\u001b[0;32m--> 151\u001b[0;31m         \u001b[0;32mreturn\u001b[0m \u001b[0mq\u001b[0m\u001b[0;34m.\u001b[0m\u001b[0mget\u001b[0m\u001b[0;34m(\u001b[0m\u001b[0;34m)\u001b[0m\u001b[0;34m\u001b[0m\u001b[0m\n\u001b[0m\u001b[1;32m    152\u001b[0m \u001b[0;34m\u001b[0m\u001b[0m\n\u001b[1;32m    153\u001b[0m \u001b[0;34m\u001b[0m\u001b[0m\n",
      "\u001b[0;32m~/anaconda/lib/python3.6/queue.py\u001b[0m in \u001b[0;36mget\u001b[0;34m(self, block, timeout)\u001b[0m\n\u001b[1;32m    162\u001b[0m             \u001b[0;32melif\u001b[0m \u001b[0mtimeout\u001b[0m \u001b[0;32mis\u001b[0m \u001b[0;32mNone\u001b[0m\u001b[0;34m:\u001b[0m\u001b[0;34m\u001b[0m\u001b[0m\n\u001b[1;32m    163\u001b[0m                 \u001b[0;32mwhile\u001b[0m \u001b[0;32mnot\u001b[0m \u001b[0mself\u001b[0m\u001b[0;34m.\u001b[0m\u001b[0m_qsize\u001b[0m\u001b[0;34m(\u001b[0m\u001b[0;34m)\u001b[0m\u001b[0;34m:\u001b[0m\u001b[0;34m\u001b[0m\u001b[0m\n\u001b[0;32m--> 164\u001b[0;31m                     \u001b[0mself\u001b[0m\u001b[0;34m.\u001b[0m\u001b[0mnot_empty\u001b[0m\u001b[0;34m.\u001b[0m\u001b[0mwait\u001b[0m\u001b[0;34m(\u001b[0m\u001b[0;34m)\u001b[0m\u001b[0;34m\u001b[0m\u001b[0m\n\u001b[0m\u001b[1;32m    165\u001b[0m             \u001b[0;32melif\u001b[0m \u001b[0mtimeout\u001b[0m \u001b[0;34m<\u001b[0m \u001b[0;36m0\u001b[0m\u001b[0;34m:\u001b[0m\u001b[0;34m\u001b[0m\u001b[0m\n\u001b[1;32m    166\u001b[0m                 \u001b[0;32mraise\u001b[0m \u001b[0mValueError\u001b[0m\u001b[0;34m(\u001b[0m\u001b[0;34m\"'timeout' must be a non-negative number\"\u001b[0m\u001b[0;34m)\u001b[0m\u001b[0;34m\u001b[0m\u001b[0m\n",
      "\u001b[0;32m~/anaconda/lib/python3.6/threading.py\u001b[0m in \u001b[0;36mwait\u001b[0;34m(self, timeout)\u001b[0m\n\u001b[1;32m    293\u001b[0m         \u001b[0;32mtry\u001b[0m\u001b[0;34m:\u001b[0m    \u001b[0;31m# restore state no matter what (e.g., KeyboardInterrupt)\u001b[0m\u001b[0;34m\u001b[0m\u001b[0m\n\u001b[1;32m    294\u001b[0m             \u001b[0;32mif\u001b[0m \u001b[0mtimeout\u001b[0m \u001b[0;32mis\u001b[0m \u001b[0;32mNone\u001b[0m\u001b[0;34m:\u001b[0m\u001b[0;34m\u001b[0m\u001b[0m\n\u001b[0;32m--> 295\u001b[0;31m                 \u001b[0mwaiter\u001b[0m\u001b[0;34m.\u001b[0m\u001b[0macquire\u001b[0m\u001b[0;34m(\u001b[0m\u001b[0;34m)\u001b[0m\u001b[0;34m\u001b[0m\u001b[0m\n\u001b[0m\u001b[1;32m    296\u001b[0m                 \u001b[0mgotit\u001b[0m \u001b[0;34m=\u001b[0m \u001b[0;32mTrue\u001b[0m\u001b[0;34m\u001b[0m\u001b[0m\n\u001b[1;32m    297\u001b[0m             \u001b[0;32melse\u001b[0m\u001b[0;34m:\u001b[0m\u001b[0;34m\u001b[0m\u001b[0m\n",
      "\u001b[0;31mKeyboardInterrupt\u001b[0m: "
     ]
    }
   ],
   "source": [
    "catgories_of_interest = ['grocery', 'food', 'bar']\n",
    "dates = pd.date_range('2017-12-01', '2017-12-10')\n",
    "\n",
    "for catg in catgories_of_interest:\n",
    "    for dt in dates:\n",
    "\n",
    "        # apply filters\n",
    "        keep_rows = (\n",
    "                ddf.apply(no_rewards_purchases, axis=1) & \n",
    "                ddf.apply(lambda row: only_this_catg(row, catg=catg), axis=1) &\n",
    "                ddf.apply(lambda row: only_this_date(row, year=dt.year, month=dt.month, day=dt.day), axis=1))\n",
    "    \n",
    "        # prepare for aggregate functions\n",
    "        g = ddf.loc[keep_rows, :].groupby('customer_id')\n",
    "        \n",
    "        feat_path_template = '{dt}_{catg}_{op}'\n",
    "        \n",
    "        for agg_name, agg_func in agg_operations.items():\n",
    "            feat_path = feat_path_template.format(\n",
    "                dt=dt.strftime('%Y%m%d'),\n",
    "                catg=catg,\n",
    "                op=agg_name)\n",
    "        \n",
    "            # write the feature to disk\n",
    "            write_feature(g.apply(agg_func), feat_path)\n",
    "        "
   ]
  },
  {
   "cell_type": "code",
   "execution_count": null,
   "metadata": {},
   "outputs": [],
   "source": [
    "! ls DATA/FEATURE"
   ]
  },
  {
   "cell_type": "code",
   "execution_count": null,
   "metadata": {},
   "outputs": [],
   "source": []
  }
 ],
 "metadata": {
  "kernelspec": {
   "display_name": "Python 3",
   "language": "python",
   "name": "python3"
  },
  "language_info": {
   "codemirror_mode": {
    "name": "ipython",
    "version": 3
   },
   "file_extension": ".py",
   "mimetype": "text/x-python",
   "name": "python",
   "nbconvert_exporter": "python",
   "pygments_lexer": "ipython3",
   "version": "3.6.1"
  }
 },
 "nbformat": 4,
 "nbformat_minor": 2
}
