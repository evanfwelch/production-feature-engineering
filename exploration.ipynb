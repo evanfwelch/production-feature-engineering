{
 "cells": [
  {
   "cell_type": "markdown",
   "metadata": {},
   "source": [
    "# Using the output of our luigi pipeline"
   ]
  },
  {
   "cell_type": "code",
   "execution_count": 1,
   "metadata": {},
   "outputs": [],
   "source": [
    "import os\n",
    "import dask.dataframe as dd\n",
    "import datetime\n",
    "import pandas as pd\n",
    "import numpy as np"
   ]
  },
  {
   "cell_type": "markdown",
   "metadata": {},
   "source": [
    "# The joined data transaction data"
   ]
  },
  {
   "cell_type": "code",
   "execution_count": 2,
   "metadata": {},
   "outputs": [],
   "source": [
    "ENRICHED_TRXN_DATA = './DATA/PROCESSED/enriched_trxns/enriched_trxns-*.csv'"
   ]
  },
  {
   "cell_type": "code",
   "execution_count": 3,
   "metadata": {},
   "outputs": [
    {
     "name": "stdout",
     "output_type": "stream",
     "text": [
      "40 -rw-r--r--  1 evanwelch  staff  19986 Mar 14 23:37 ./DATA/PROCESSED/enriched_trxns/enriched_trxns-32.csv\r\n",
      "48 -rw-r--r--  1 evanwelch  staff  21867 Mar 14 23:37 ./DATA/PROCESSED/enriched_trxns/enriched_trxns-07.csv\r\n",
      "40 -rw-r--r--  1 evanwelch  staff  19240 Mar 14 23:37 ./DATA/PROCESSED/enriched_trxns/enriched_trxns-00.csv\r\n",
      "48 -rw-r--r--  1 evanwelch  staff  20600 Mar 14 23:37 ./DATA/PROCESSED/enriched_trxns/enriched_trxns-15.csv\r\n",
      "48 -rw-r--r--  1 evanwelch  staff  22145 Mar 14 23:37 ./DATA/PROCESSED/enriched_trxns/enriched_trxns-03.csv\r\n"
     ]
    }
   ],
   "source": [
    "!ls -lsrt $ENRICHED_TRXN_DATA | head -5"
   ]
  },
  {
   "cell_type": "code",
   "execution_count": 4,
   "metadata": {},
   "outputs": [
    {
     "name": "stdout",
     "output_type": "stream",
     "text": [
      "_id|amount|cust_first_nm|cust_last_nm|cust_state|cust_zip|customer_id|medium|merchant_id|mrch_catgs|mrch_lat|mrch_lon|mrch_name|mrch_state|mrch_zip|payer_id|purchase_date|rewards|status|type\r\n"
     ]
    }
   ],
   "source": [
    "! cat ./DATA/PROCESSED/enriched_trxns/enriched_trxns-32.csv | head -1"
   ]
  },
  {
   "cell_type": "code",
   "execution_count": 5,
   "metadata": {},
   "outputs": [
    {
     "name": "stdout",
     "output_type": "stream",
     "text": [
      "5aa9edfff0cec56abfa3f178|314.73842349112346|Michelle|Sawyer|IA|08636|5aa9eacef0cec56abfa3deac|balance|593848ceceb8abe242510b33|['travel']|0.0|0.0|priceline|CA|90503|5aa9ebabf0cec56abfa3e3c5|2017-12-01|0|cancelled|merchant\r\n"
     ]
    }
   ],
   "source": [
    "! cat ./DATA/PROCESSED/enriched_trxns/enriched_trxns-32.csv | head -2 | tail -1"
   ]
  },
  {
   "cell_type": "markdown",
   "metadata": {},
   "source": [
    "# Read it in for exploration..."
   ]
  },
  {
   "cell_type": "code",
   "execution_count": 6,
   "metadata": {},
   "outputs": [],
   "source": [
    "# using dask dataframes, very similar to pandas\n",
    "ddf = dd.read_csv(ENRICHED_TRXN_DATA, sep='|', dtype={'mrch_zip':str, 'zip': str})"
   ]
  },
  {
   "cell_type": "code",
   "execution_count": null,
   "metadata": {},
   "outputs": [],
   "source": [
    "ddf.head()"
   ]
  },
  {
   "cell_type": "markdown",
   "metadata": {},
   "source": [
    "# Ok, so say we want to make some features.... \n",
    "* total, average, and count ...\n",
    "* of credit card transactions...\n",
    "* per cusomter\n",
    "* for certain categories"
   ]
  },
  {
   "cell_type": "markdown",
   "metadata": {},
   "source": [
    "# one way do it..."
   ]
  },
  {
   "cell_type": "code",
   "execution_count": null,
   "metadata": {},
   "outputs": [],
   "source": [
    "ddf[ddf.purchase_date == '2017-12-01'].dropna().groupby('customer_id').amount.sum().compute().head()"
   ]
  },
  {
   "cell_type": "markdown",
   "metadata": {},
   "source": [
    "# A longer, but more robust way ...."
   ]
  },
  {
   "cell_type": "markdown",
   "metadata": {},
   "source": [
    "## filter certain rows (in or out)"
   ]
  },
  {
   "cell_type": "code",
   "execution_count": null,
   "metadata": {},
   "outputs": [],
   "source": [
    "def no_rewards_purchases(trxn):\n",
    "    return trxn['medium'] != 'reward'\n",
    "\n",
    "def only_this_catg(trxn, catg):\n",
    "    return any([catg.lower() in cat.lower() for cat in trxn['mrch_catgs'].split()])\n",
    "\n",
    "def only_this_date(trxn, year=None, month=None, day=None):\n",
    "    result = True\n",
    "    try:\n",
    "        trxn_dt = pd.to_datetime(trxn['purchase_date'])\n",
    "    except:\n",
    "        trxn_dt = pd.NaT\n",
    "    if year:\n",
    "        result &= trxn_dt.year == year\n",
    "    if month:\n",
    "        result &= trxn_dt.month == month\n",
    "    if day:\n",
    "        result &= trxn_dt.day == day\n",
    "    \n",
    "    return result\n",
    "\n"
   ]
  },
  {
   "cell_type": "markdown",
   "metadata": {},
   "source": [
    "## some new columns"
   ]
  },
  {
   "cell_type": "code",
   "execution_count": null,
   "metadata": {},
   "outputs": [],
   "source": [
    "def first_digit_zip_code(zip_str):\n",
    "    if len(zip_str) >= 5:\n",
    "        return int(zip_str[0])\n",
    "    else:\n",
    "        return np.nan"
   ]
  },
  {
   "cell_type": "code",
   "execution_count": null,
   "metadata": {},
   "outputs": [],
   "source": [
    "def is_amazon(trxn):\n",
    "    return 'amazon' in trxn['mrch_name'].lower()"
   ]
  },
  {
   "cell_type": "markdown",
   "metadata": {},
   "source": [
    "## some aggregations"
   ]
  },
  {
   "cell_type": "code",
   "execution_count": null,
   "metadata": {},
   "outputs": [],
   "source": [
    "def _trxn_cnt(df):\n",
    "    return df.shape[0]\n",
    "\n",
    "def _trxn_total(df):\n",
    "    return df['amount'].sum()\n",
    "\n",
    "def _trxn_mean(df):\n",
    "    return df['amount'].mean()\n",
    "\n",
    "agg_operations = {\n",
    "    'cnt': _trxn_cnt,\n",
    "    'tot': _trxn_total,\n",
    "    'avg': _trxn_mean}\n"
   ]
  },
  {
   "cell_type": "code",
   "execution_count": null,
   "metadata": {},
   "outputs": [],
   "source": [
    "# where to save features\n",
    "\n",
    "FEATURE_PATH = 'DATA/FEATURES/'\n",
    "\n",
    "if not os.path.exists(FEATURE_PATH):\n",
    "    os.makedirs(FEATURE_PATH)"
   ]
  },
  {
   "cell_type": "code",
   "execution_count": null,
   "metadata": {},
   "outputs": [],
   "source": [
    "def write_feature(srs, feat_path):\n",
    "    feature_folder = os.path.join(FEATURE_PATH, feat_path)\n",
    "    if not os.path.exists(feature_folder):\n",
    "        os.makedirs(feature_folder)\n",
    "    \n",
    "    # write the feature to disk\n",
    "    files = srs.to_csv(os.path.join(FEATURE_PATH, feat_path, 'part-*.csv'), sep='|', index_label='customer_id')\n",
    "    return files"
   ]
  },
  {
   "cell_type": "code",
   "execution_count": null,
   "metadata": {},
   "outputs": [],
   "source": [
    "catgories_of_interest = ['grocery', 'food', 'bar']\n",
    "dates = pd.date_range('2017-12-01', '2017-12-10')\n",
    "\n",
    "for catg in catgories_of_interest:\n",
    "    for dt in dates:\n",
    "\n",
    "        # apply filters\n",
    "        keep_rows = (\n",
    "                ddf.apply(no_rewards_purchases, axis=1) & \n",
    "                ddf.apply(lambda row: only_this_catg(row, catg=catg), axis=1) &\n",
    "                ddf.apply(lambda row: only_this_date(row, year=dt.year, month=dt.month, day=dt.day), axis=1))\n",
    "    \n",
    "        # prepare for aggregate functions\n",
    "        g = ddf.loc[keep_rows, :].groupby('customer_id')\n",
    "        \n",
    "        feat_path_template = '{dt}_{catg}_{op}'\n",
    "        \n",
    "        for agg_name, agg_func in agg_operations.items():\n",
    "            feat_path = feat_path_template.format(\n",
    "                dt=dt.strftime('%Y%m%d'),\n",
    "                catg=catg,\n",
    "                op=agg_name)\n",
    "        \n",
    "            # write the feature to disk\n",
    "            write_feature(g.apply(agg_func), feat_path)\n",
    "        "
   ]
  },
  {
   "cell_type": "code",
   "execution_count": null,
   "metadata": {},
   "outputs": [],
   "source": [
    "! ls DATA/FEATURE"
   ]
  },
  {
   "cell_type": "code",
   "execution_count": 7,
   "metadata": {},
   "outputs": [],
   "source": [
    "import exploration"
   ]
  },
  {
   "cell_type": "code",
   "execution_count": null,
   "metadata": {},
   "outputs": [
    {
     "name": "stderr",
     "output_type": "stream",
     "text": [
      "/Users/evanwelch/PROJECTS/production-feature-engineering/env/lib/python3.6/site-packages/dask/dataframe/core.py:2779: UserWarning: `meta` is not specified, inferred from partial data. Please provide `meta` if the result is unexpected.\n",
      "  Before: .apply(func)\n",
      "  After:  .apply(func, meta={'x': 'f8', 'y': 'f8'}) for dataframe result\n",
      "  or:     .apply(func, meta=('x', 'f8'))            for series result\n",
      "  warnings.warn(msg)\n",
      "/Users/evanwelch/PROJECTS/production-feature-engineering/exploration.py:107: UserWarning: `meta` is not specified, inferred from partial data. Please provide `meta` if the result is unexpected.\n",
      "  Before: .apply(func)\n",
      "  After:  .apply(func, meta={'x': 'f8', 'y': 'f8'}) for dataframe result\n",
      "  or:     .apply(func, meta=('x', 'f8'))            for series result\n",
      "  write_feature(g.apply(agg_func), feat_path)\n"
     ]
    },
    {
     "name": "stdout",
     "output_type": "stream",
     "text": [
      "Wrote feature: 20171201/grocery_cnt\n",
      "Wrote feature: 20171201/grocery_tot\n",
      "Wrote feature: 20171201/grocery_avg\n",
      "Wrote feature: 20171202/grocery_cnt\n",
      "Wrote feature: 20171202/grocery_tot\n",
      "Wrote feature: 20171202/grocery_avg\n",
      "Wrote feature: 20171203/grocery_cnt\n",
      "Wrote feature: 20171203/grocery_tot\n",
      "Wrote feature: 20171203/grocery_avg\n",
      "Wrote feature: 20171204/grocery_cnt\n",
      "Wrote feature: 20171204/grocery_tot\n",
      "Wrote feature: 20171204/grocery_avg\n",
      "Wrote feature: 20171205/grocery_cnt\n",
      "Wrote feature: 20171205/grocery_tot\n",
      "Wrote feature: 20171205/grocery_avg\n",
      "Wrote feature: 20171206/grocery_cnt\n",
      "Wrote feature: 20171206/grocery_tot\n",
      "Wrote feature: 20171206/grocery_avg\n",
      "Wrote feature: 20171207/grocery_cnt\n",
      "Wrote feature: 20171207/grocery_tot\n",
      "Wrote feature: 20171207/grocery_avg\n",
      "Wrote feature: 20171208/grocery_cnt\n",
      "Wrote feature: 20171208/grocery_tot\n",
      "Wrote feature: 20171208/grocery_avg\n",
      "Wrote feature: 20171209/grocery_cnt\n",
      "Wrote feature: 20171209/grocery_tot\n",
      "Wrote feature: 20171209/grocery_avg\n",
      "Wrote feature: 20171210/grocery_cnt\n",
      "Wrote feature: 20171210/grocery_tot\n",
      "Wrote feature: 20171210/grocery_avg\n",
      "Wrote feature: 20171201/food_cnt\n",
      "Wrote feature: 20171201/food_tot\n",
      "Wrote feature: 20171201/food_avg\n",
      "Wrote feature: 20171202/food_cnt\n",
      "Wrote feature: 20171202/food_tot\n",
      "Wrote feature: 20171202/food_avg\n",
      "Wrote feature: 20171203/food_cnt\n",
      "Wrote feature: 20171203/food_tot\n",
      "Wrote feature: 20171203/food_avg\n",
      "Wrote feature: 20171204/food_cnt\n",
      "Wrote feature: 20171204/food_tot\n",
      "Wrote feature: 20171204/food_avg\n",
      "Wrote feature: 20171205/food_cnt\n",
      "Wrote feature: 20171205/food_tot\n",
      "Wrote feature: 20171205/food_avg\n",
      "Wrote feature: 20171206/food_cnt\n",
      "Wrote feature: 20171206/food_tot\n"
     ]
    }
   ],
   "source": [
    "exploration.generate_features(ddf)"
   ]
  },
  {
   "cell_type": "code",
   "execution_count": null,
   "metadata": {},
   "outputs": [],
   "source": []
  }
 ],
 "metadata": {
  "kernelspec": {
   "display_name": "Python 3",
   "language": "python",
   "name": "python3"
  },
  "language_info": {
   "codemirror_mode": {
    "name": "ipython",
    "version": 3
   },
   "file_extension": ".py",
   "mimetype": "text/x-python",
   "name": "python",
   "nbconvert_exporter": "python",
   "pygments_lexer": "ipython3",
   "version": "3.6.1"
  }
 },
 "nbformat": 4,
 "nbformat_minor": 2
}
