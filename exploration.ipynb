{
 "cells": [
  {
   "cell_type": "code",
   "execution_count": 125,
   "metadata": {},
   "outputs": [],
   "source": [
    "import dask.dataframe as dd"
   ]
  },
  {
   "cell_type": "markdown",
   "metadata": {},
   "source": [
    "# The joined data from our pipeline"
   ]
  },
  {
   "cell_type": "code",
   "execution_count": 126,
   "metadata": {},
   "outputs": [],
   "source": [
    "ENRICHED_TRXN_DATA = './DATA/PROCESSED/enriched_trxns/enriched_trxns-*.csv'"
   ]
  },
  {
   "cell_type": "code",
   "execution_count": 127,
   "metadata": {},
   "outputs": [
    {
     "name": "stdout",
     "output_type": "stream",
     "text": [
      "16 -rw-r--r--  1 evanwelch  staff  7054 Mar 14 17:14 ./DATA/PROCESSED/enriched_trxns/enriched_trxns-1.csv\r\n",
      "16 -rw-r--r--  1 evanwelch  staff  6311 Mar 14 17:14 ./DATA/PROCESSED/enriched_trxns/enriched_trxns-2.csv\r\n",
      " 8 -rw-r--r--  1 evanwelch  staff  3715 Mar 14 17:14 ./DATA/PROCESSED/enriched_trxns/enriched_trxns-0.csv\r\n",
      " 8 -rw-r--r--  1 evanwelch  staff  2951 Mar 14 17:14 ./DATA/PROCESSED/enriched_trxns/enriched_trxns-3.csv\r\n"
     ]
    }
   ],
   "source": [
    "!ls -lsrt $ENRICHED_TRXN_DATA"
   ]
  },
  {
   "cell_type": "markdown",
   "metadata": {},
   "source": [
    "# Read it in for exploration..."
   ]
  },
  {
   "cell_type": "code",
   "execution_count": 133,
   "metadata": {},
   "outputs": [],
   "source": [
    "ddf = dd.read_csv(ENRICHED_TRXN_DATA, sep='|', dtype={'mrch_zip':str, 'zip': str})"
   ]
  },
  {
   "cell_type": "code",
   "execution_count": 134,
   "metadata": {},
   "outputs": [
    {
     "data": {
      "text/html": [
       "<div>\n",
       "<style scoped>\n",
       "    .dataframe tbody tr th:only-of-type {\n",
       "        vertical-align: middle;\n",
       "    }\n",
       "\n",
       "    .dataframe tbody tr th {\n",
       "        vertical-align: top;\n",
       "    }\n",
       "\n",
       "    .dataframe thead th {\n",
       "        text-align: right;\n",
       "    }\n",
       "</style>\n",
       "<table border=\"1\" class=\"dataframe\">\n",
       "  <thead>\n",
       "    <tr style=\"text-align: right;\">\n",
       "      <th></th>\n",
       "      <th>_id</th>\n",
       "      <th>amount</th>\n",
       "      <th>cust_first_nm</th>\n",
       "      <th>cust_last_nm</th>\n",
       "      <th>cust_state</th>\n",
       "      <th>cust_zip</th>\n",
       "      <th>customer_id</th>\n",
       "      <th>medium</th>\n",
       "      <th>merchant_id</th>\n",
       "      <th>mrch_catgs</th>\n",
       "      <th>mrch_lat</th>\n",
       "      <th>mrch_lon</th>\n",
       "      <th>mrch_state</th>\n",
       "      <th>mrch_zip</th>\n",
       "      <th>payer_id</th>\n",
       "      <th>purchase_date</th>\n",
       "      <th>rewards</th>\n",
       "      <th>status</th>\n",
       "      <th>type</th>\n",
       "    </tr>\n",
       "  </thead>\n",
       "  <tbody>\n",
       "    <tr>\n",
       "      <th>0</th>\n",
       "      <td>5aa96e43f0cec56abfa3dd25</td>\n",
       "      <td>132.690782</td>\n",
       "      <td>Jeffrey</td>\n",
       "      <td>Lopez</td>\n",
       "      <td>WY</td>\n",
       "      <td>49157</td>\n",
       "      <td>5aa96e38f0cec56abfa3dd04</td>\n",
       "      <td>balance</td>\n",
       "      <td>57cf75cea73e494d8675f4e2</td>\n",
       "      <td>['lodging', 'restaurant', 'food', 'point_of_in...</td>\n",
       "      <td>39.950909</td>\n",
       "      <td>NaN</td>\n",
       "      <td>PA</td>\n",
       "      <td>19103</td>\n",
       "      <td>5aa96e3af0cec56abfa3dd0e</td>\n",
       "      <td>2017-12-06</td>\n",
       "      <td>0</td>\n",
       "      <td>cancelled</td>\n",
       "      <td>merchant</td>\n",
       "    </tr>\n",
       "    <tr>\n",
       "      <th>1</th>\n",
       "      <td>5aa96e42f0cec56abfa3dd23</td>\n",
       "      <td>266.259286</td>\n",
       "      <td>Jeffrey</td>\n",
       "      <td>Lopez</td>\n",
       "      <td>WY</td>\n",
       "      <td>49157</td>\n",
       "      <td>5aa96e38f0cec56abfa3dd04</td>\n",
       "      <td>balance</td>\n",
       "      <td>57cf75cea73e494d8675f1c2</td>\n",
       "      <td>['lodging', 'restaurant', 'food', 'point_of_in...</td>\n",
       "      <td>30.319571</td>\n",
       "      <td>NaN</td>\n",
       "      <td>TX</td>\n",
       "      <td>78723</td>\n",
       "      <td>5aa96e3cf0cec56abfa3dd10</td>\n",
       "      <td>2017-12-03</td>\n",
       "      <td>0</td>\n",
       "      <td>cancelled</td>\n",
       "      <td>merchant</td>\n",
       "    </tr>\n",
       "    <tr>\n",
       "      <th>2</th>\n",
       "      <td>5aa96e43f0cec56abfa3dd24</td>\n",
       "      <td>47.429885</td>\n",
       "      <td>Jeffrey</td>\n",
       "      <td>Lopez</td>\n",
       "      <td>WY</td>\n",
       "      <td>49157</td>\n",
       "      <td>5aa96e38f0cec56abfa3dd04</td>\n",
       "      <td>balance</td>\n",
       "      <td>57cf75cea73e494d8675f0d6</td>\n",
       "      <td>['grocery_or_supermarket', 'liquor_store', 'fl...</td>\n",
       "      <td>42.341840</td>\n",
       "      <td>NaN</td>\n",
       "      <td>MA</td>\n",
       "      <td>02446</td>\n",
       "      <td>5aa96e3cf0cec56abfa3dd10</td>\n",
       "      <td>2017-12-05</td>\n",
       "      <td>0</td>\n",
       "      <td>cancelled</td>\n",
       "      <td>merchant</td>\n",
       "    </tr>\n",
       "    <tr>\n",
       "      <th>3</th>\n",
       "      <td>5aa96e43f0cec56abfa3dd26</td>\n",
       "      <td>34.616882</td>\n",
       "      <td>Alyssa</td>\n",
       "      <td>Hanson</td>\n",
       "      <td>VI</td>\n",
       "      <td>43450</td>\n",
       "      <td>5aa96e38f0cec56abfa3dd05</td>\n",
       "      <td>balance</td>\n",
       "      <td>57cf75cea73e494d8675f54a</td>\n",
       "      <td>['meal_delivery', 'meal_takeaway', 'bar', 'res...</td>\n",
       "      <td>39.953216</td>\n",
       "      <td>NaN</td>\n",
       "      <td>PA</td>\n",
       "      <td>19107</td>\n",
       "      <td>5aa96e3cf0cec56abfa3dd11</td>\n",
       "      <td>2017-12-06</td>\n",
       "      <td>0</td>\n",
       "      <td>cancelled</td>\n",
       "      <td>merchant</td>\n",
       "    </tr>\n",
       "    <tr>\n",
       "      <th>4</th>\n",
       "      <td>5aa96e43f0cec56abfa3dd27</td>\n",
       "      <td>386.329456</td>\n",
       "      <td>Alyssa</td>\n",
       "      <td>Hanson</td>\n",
       "      <td>VI</td>\n",
       "      <td>43450</td>\n",
       "      <td>5aa96e38f0cec56abfa3dd05</td>\n",
       "      <td>balance</td>\n",
       "      <td>57cf75cea73e494d8675f392</td>\n",
       "      <td>['travel_agency', 'store', 'point_of_interest'...</td>\n",
       "      <td>43.076139</td>\n",
       "      <td>NaN</td>\n",
       "      <td>WI</td>\n",
       "      <td>53706</td>\n",
       "      <td>5aa96e3cf0cec56abfa3dd11</td>\n",
       "      <td>2017-12-10</td>\n",
       "      <td>0</td>\n",
       "      <td>cancelled</td>\n",
       "      <td>merchant</td>\n",
       "    </tr>\n",
       "  </tbody>\n",
       "</table>\n",
       "</div>"
      ],
      "text/plain": [
       "                        _id      amount cust_first_nm cust_last_nm cust_state  \\\n",
       "0  5aa96e43f0cec56abfa3dd25  132.690782       Jeffrey        Lopez         WY   \n",
       "1  5aa96e42f0cec56abfa3dd23  266.259286       Jeffrey        Lopez         WY   \n",
       "2  5aa96e43f0cec56abfa3dd24   47.429885       Jeffrey        Lopez         WY   \n",
       "3  5aa96e43f0cec56abfa3dd26   34.616882        Alyssa       Hanson         VI   \n",
       "4  5aa96e43f0cec56abfa3dd27  386.329456        Alyssa       Hanson         VI   \n",
       "\n",
       "   cust_zip               customer_id   medium               merchant_id  \\\n",
       "0     49157  5aa96e38f0cec56abfa3dd04  balance  57cf75cea73e494d8675f4e2   \n",
       "1     49157  5aa96e38f0cec56abfa3dd04  balance  57cf75cea73e494d8675f1c2   \n",
       "2     49157  5aa96e38f0cec56abfa3dd04  balance  57cf75cea73e494d8675f0d6   \n",
       "3     43450  5aa96e38f0cec56abfa3dd05  balance  57cf75cea73e494d8675f54a   \n",
       "4     43450  5aa96e38f0cec56abfa3dd05  balance  57cf75cea73e494d8675f392   \n",
       "\n",
       "                                          mrch_catgs   mrch_lat  mrch_lon  \\\n",
       "0  ['lodging', 'restaurant', 'food', 'point_of_in...  39.950909       NaN   \n",
       "1  ['lodging', 'restaurant', 'food', 'point_of_in...  30.319571       NaN   \n",
       "2  ['grocery_or_supermarket', 'liquor_store', 'fl...  42.341840       NaN   \n",
       "3  ['meal_delivery', 'meal_takeaway', 'bar', 'res...  39.953216       NaN   \n",
       "4  ['travel_agency', 'store', 'point_of_interest'...  43.076139       NaN   \n",
       "\n",
       "  mrch_state mrch_zip                  payer_id purchase_date  rewards  \\\n",
       "0         PA    19103  5aa96e3af0cec56abfa3dd0e    2017-12-06        0   \n",
       "1         TX    78723  5aa96e3cf0cec56abfa3dd10    2017-12-03        0   \n",
       "2         MA    02446  5aa96e3cf0cec56abfa3dd10    2017-12-05        0   \n",
       "3         PA    19107  5aa96e3cf0cec56abfa3dd11    2017-12-06        0   \n",
       "4         WI    53706  5aa96e3cf0cec56abfa3dd11    2017-12-10        0   \n",
       "\n",
       "      status      type  \n",
       "0  cancelled  merchant  \n",
       "1  cancelled  merchant  \n",
       "2  cancelled  merchant  \n",
       "3  cancelled  merchant  \n",
       "4  cancelled  merchant  "
      ]
     },
     "execution_count": 134,
     "metadata": {},
     "output_type": "execute_result"
    }
   ],
   "source": [
    "ddf.head()"
   ]
  },
  {
   "cell_type": "markdown",
   "metadata": {},
   "source": [
    "# filter certain rows (in or out)"
   ]
  },
  {
   "cell_type": "markdown",
   "metadata": {},
   "source": [
    "# some new columns"
   ]
  },
  {
   "cell_type": "markdown",
   "metadata": {},
   "source": [
    "# some aggregations"
   ]
  },
  {
   "cell_type": "code",
   "execution_count": 135,
   "metadata": {},
   "outputs": [],
   "source": [
    "total_purch = ddf.groupby('purchase_date').amount.sum()"
   ]
  },
  {
   "cell_type": "code",
   "execution_count": 137,
   "metadata": {},
   "outputs": [
    {
     "data": {
      "text/plain": [
       "purchase_date\n",
       "2017-12-01    975.179841\n",
       "2017-12-02    745.130377\n",
       "2017-12-03    526.045785\n",
       "2017-12-04    519.332555\n",
       "2017-12-05    359.541407\n",
       "2017-12-06    796.300589\n",
       "2017-12-07    313.124616\n",
       "2017-12-09    262.944510\n",
       "2017-12-10    658.334660\n",
       "2017-12-08    214.026894\n",
       "Name: amount, dtype: float64"
      ]
     },
     "execution_count": 137,
     "metadata": {},
     "output_type": "execute_result"
    }
   ],
   "source": [
    "total_purch.compute()"
   ]
  },
  {
   "cell_type": "code",
   "execution_count": null,
   "metadata": {},
   "outputs": [],
   "source": []
  }
 ],
 "metadata": {
  "kernelspec": {
   "display_name": "Python 3",
   "language": "python",
   "name": "python3"
  },
  "language_info": {
   "codemirror_mode": {
    "name": "ipython",
    "version": 3
   },
   "file_extension": ".py",
   "mimetype": "text/x-python",
   "name": "python",
   "nbconvert_exporter": "python",
   "pygments_lexer": "ipython3",
   "version": "3.6.1"
  }
 },
 "nbformat": 4,
 "nbformat_minor": 2
}
